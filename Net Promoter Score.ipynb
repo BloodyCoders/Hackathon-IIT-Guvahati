{
 "cells": [
  {
   "cell_type": "code",
   "execution_count": 2,
   "id": "7cf48847",
   "metadata": {},
   "outputs": [],
   "source": [
    "import pandas as pd\n",
    "import numpy as np"
   ]
  },
  {
   "cell_type": "code",
   "execution_count": 13,
   "id": "d17e582f",
   "metadata": {},
   "outputs": [],
   "source": [
    "data=pd.read_table('survey-Data-From-User.txt')"
   ]
  },
  {
   "cell_type": "code",
   "execution_count": 14,
   "id": "ad011b18",
   "metadata": {},
   "outputs": [
    {
     "data": {
      "text/html": [
       "<div>\n",
       "<style scoped>\n",
       "    .dataframe tbody tr th:only-of-type {\n",
       "        vertical-align: middle;\n",
       "    }\n",
       "\n",
       "    .dataframe tbody tr th {\n",
       "        vertical-align: top;\n",
       "    }\n",
       "\n",
       "    .dataframe thead th {\n",
       "        text-align: right;\n",
       "    }\n",
       "</style>\n",
       "<table border=\"1\" class=\"dataframe\">\n",
       "  <thead>\n",
       "    <tr style=\"text-align: right;\">\n",
       "      <th></th>\n",
       "      <th>Date</th>\n",
       "      <th>Survey</th>\n",
       "      <th>SurveyResults</th>\n",
       "    </tr>\n",
       "  </thead>\n",
       "  <tbody>\n",
       "    <tr>\n",
       "      <th>0</th>\n",
       "      <td>05-01-2023</td>\n",
       "      <td>7</td>\n",
       "      <td>Detractor</td>\n",
       "    </tr>\n",
       "    <tr>\n",
       "      <th>1</th>\n",
       "      <td>05-01-2023</td>\n",
       "      <td>10</td>\n",
       "      <td>Promoter</td>\n",
       "    </tr>\n",
       "    <tr>\n",
       "      <th>2</th>\n",
       "      <td>05-01-2023</td>\n",
       "      <td>5</td>\n",
       "      <td>Detractor</td>\n",
       "    </tr>\n",
       "    <tr>\n",
       "      <th>3</th>\n",
       "      <td>05-01-2023</td>\n",
       "      <td>9</td>\n",
       "      <td>Promoter</td>\n",
       "    </tr>\n",
       "    <tr>\n",
       "      <th>4</th>\n",
       "      <td>05-01-2023</td>\n",
       "      <td>9</td>\n",
       "      <td>Promoter</td>\n",
       "    </tr>\n",
       "    <tr>\n",
       "      <th>...</th>\n",
       "      <td>...</td>\n",
       "      <td>...</td>\n",
       "      <td>...</td>\n",
       "    </tr>\n",
       "    <tr>\n",
       "      <th>1454</th>\n",
       "      <td>05-01-2023</td>\n",
       "      <td>1</td>\n",
       "      <td>Detractor</td>\n",
       "    </tr>\n",
       "    <tr>\n",
       "      <th>1455</th>\n",
       "      <td>05-01-2023</td>\n",
       "      <td>10</td>\n",
       "      <td>Promoter</td>\n",
       "    </tr>\n",
       "    <tr>\n",
       "      <th>1456</th>\n",
       "      <td>05-01-2023</td>\n",
       "      <td>5</td>\n",
       "      <td>Detractor</td>\n",
       "    </tr>\n",
       "    <tr>\n",
       "      <th>1457</th>\n",
       "      <td>05-01-2023</td>\n",
       "      <td>9</td>\n",
       "      <td>Promoter</td>\n",
       "    </tr>\n",
       "    <tr>\n",
       "      <th>1458</th>\n",
       "      <td>05-01-2023</td>\n",
       "      <td>10</td>\n",
       "      <td>Promoter</td>\n",
       "    </tr>\n",
       "  </tbody>\n",
       "</table>\n",
       "<p>1459 rows × 3 columns</p>\n",
       "</div>"
      ],
      "text/plain": [
       "            Date  Survey SurveyResults\n",
       "0     05-01-2023       7     Detractor\n",
       "1     05-01-2023      10      Promoter\n",
       "2     05-01-2023       5     Detractor\n",
       "3     05-01-2023       9      Promoter\n",
       "4     05-01-2023       9      Promoter\n",
       "...          ...     ...           ...\n",
       "1454  05-01-2023       1     Detractor\n",
       "1455  05-01-2023      10      Promoter\n",
       "1456  05-01-2023       5     Detractor\n",
       "1457  05-01-2023       9      Promoter\n",
       "1458  05-01-2023      10      Promoter\n",
       "\n",
       "[1459 rows x 3 columns]"
      ]
     },
     "execution_count": 14,
     "metadata": {},
     "output_type": "execute_result"
    }
   ],
   "source": [
    "data"
   ]
  },
  {
   "cell_type": "code",
   "execution_count": 15,
   "id": "c602dcb1",
   "metadata": {},
   "outputs": [
    {
     "data": {
      "text/plain": [
       "Date        Survey  SurveyResults\n",
       "05-01-2023  9       Promoter         459\n",
       "            10      Promoter         299\n",
       "            7       Detractor        156\n",
       "            1       Detractor        141\n",
       "            5       Detractor        139\n",
       "            4       Detractor        133\n",
       "            8       Promoter         130\n",
       "            910     Promoter           1\n",
       "            1010    Promoter           1\n",
       "Name: count, dtype: int64"
      ]
     },
     "execution_count": 15,
     "metadata": {},
     "output_type": "execute_result"
    }
   ],
   "source": [
    "data.value_counts()"
   ]
  },
  {
   "cell_type": "code",
   "execution_count": 16,
   "id": "fcbdd10d",
   "metadata": {},
   "outputs": [
    {
     "data": {
      "text/plain": [
       "array([[<Axes: title={'center': 'Survey'}>]], dtype=object)"
      ]
     },
     "execution_count": 16,
     "metadata": {},
     "output_type": "execute_result"
    },
    {
     "data": {
      "image/png": "[encoded data removed]",
      "text/plain": [
       "<Figure size 640x480 with 1 Axes>"
      ]
     },
     "metadata": {},
     "output_type": "display_data"
    }
   ],
   "source": [
    "data.hist()"
   ]
  },
  {
   "cell_type": "code",
   "execution_count": 17,
   "id": "20a0ff71",
   "metadata": {},
   "outputs": [
    {
     "name": "stdout",
     "output_type": "stream",
     "text": [
      "<class 'pandas.core.frame.DataFrame'>\n",
      "RangeIndex: 1459 entries, 0 to 1458\n",
      "Data columns (total 3 columns):\n",
      " #   Column         Non-Null Count  Dtype \n",
      "---  ------         --------------  ----- \n",
      " 0   Date           1459 non-null   object\n",
      " 1   Survey         1459 non-null   int64 \n",
      " 2   SurveyResults  1459 non-null   object\n",
      "dtypes: int64(1), object(2)\n",
      "memory usage: 34.3+ KB\n"
     ]
    }
   ],
   "source": [
    "data.info()"
   ]
  },
  {
   "cell_type": "code",
   "execution_count": 19,
   "id": "b2bf11ef",
   "metadata": {},
   "outputs": [],
   "source": [
    "data.dropna(inplace=True)"
   ]
  },
  {
   "cell_type": "code",
   "execution_count": 20,
   "id": "5792a369",
   "metadata": {},
   "outputs": [
    {
     "name": "stdout",
     "output_type": "stream",
     "text": [
      "<class 'pandas.core.frame.DataFrame'>\n",
      "RangeIndex: 1459 entries, 0 to 1458\n",
      "Data columns (total 3 columns):\n",
      " #   Column         Non-Null Count  Dtype \n",
      "---  ------         --------------  ----- \n",
      " 0   Date           1459 non-null   object\n",
      " 1   Survey         1459 non-null   int64 \n",
      " 2   SurveyResults  1459 non-null   object\n",
      "dtypes: int64(1), object(2)\n",
      "memory usage: 34.3+ KB\n"
     ]
    }
   ],
   "source": [
    "data.info()"
   ]
  },
  {
   "cell_type": "code",
   "execution_count": 31,
   "id": "b4bc1627",
   "metadata": {},
   "outputs": [],
   "source": [
    "from sklearn.preprocessing import LabelEncoder\n",
    "le = LabelEncoder()\n",
    "data['Date'] = le.fit_transform(data['Date'])"
   ]
  },
  {
   "cell_type": "code",
   "execution_count": 32,
   "id": "b3a01ba4",
   "metadata": {},
   "outputs": [
    {
     "data": {
      "text/html": [
       "<div>\n",
       "<style scoped>\n",
       "    .dataframe tbody tr th:only-of-type {\n",
       "        vertical-align: middle;\n",
       "    }\n",
       "\n",
       "    .dataframe tbody tr th {\n",
       "        vertical-align: top;\n",
       "    }\n",
       "\n",
       "    .dataframe thead th {\n",
       "        text-align: right;\n",
       "    }\n",
       "</style>\n",
       "<table border=\"1\" class=\"dataframe\">\n",
       "  <thead>\n",
       "    <tr style=\"text-align: right;\">\n",
       "      <th></th>\n",
       "      <th>Date_0</th>\n",
       "    </tr>\n",
       "  </thead>\n",
       "  <tbody>\n",
       "    <tr>\n",
       "      <th>0</th>\n",
       "      <td>True</td>\n",
       "    </tr>\n",
       "    <tr>\n",
       "      <th>1</th>\n",
       "      <td>True</td>\n",
       "    </tr>\n",
       "    <tr>\n",
       "      <th>2</th>\n",
       "      <td>True</td>\n",
       "    </tr>\n",
       "    <tr>\n",
       "      <th>3</th>\n",
       "      <td>True</td>\n",
       "    </tr>\n",
       "    <tr>\n",
       "      <th>4</th>\n",
       "      <td>True</td>\n",
       "    </tr>\n",
       "    <tr>\n",
       "      <th>...</th>\n",
       "      <td>...</td>\n",
       "    </tr>\n",
       "    <tr>\n",
       "      <th>1454</th>\n",
       "      <td>True</td>\n",
       "    </tr>\n",
       "    <tr>\n",
       "      <th>1455</th>\n",
       "      <td>True</td>\n",
       "    </tr>\n",
       "    <tr>\n",
       "      <th>1456</th>\n",
       "      <td>True</td>\n",
       "    </tr>\n",
       "    <tr>\n",
       "      <th>1457</th>\n",
       "      <td>True</td>\n",
       "    </tr>\n",
       "    <tr>\n",
       "      <th>1458</th>\n",
       "      <td>True</td>\n",
       "    </tr>\n",
       "  </tbody>\n",
       "</table>\n",
       "<p>1459 rows × 1 columns</p>\n",
       "</div>"
      ],
      "text/plain": [
       "      Date_0\n",
       "0       True\n",
       "1       True\n",
       "2       True\n",
       "3       True\n",
       "4       True\n",
       "...      ...\n",
       "1454    True\n",
       "1455    True\n",
       "1456    True\n",
       "1457    True\n",
       "1458    True\n",
       "\n",
       "[1459 rows x 1 columns]"
      ]
     },
     "execution_count": 32,
     "metadata": {},
     "output_type": "execute_result"
    }
   ],
   "source": [
    "pd.get_dummies(data['Date'],prefix='Date')"
   ]
  },
  {
   "cell_type": "code",
   "execution_count": 33,
   "id": "95e12105",
   "metadata": {},
   "outputs": [],
   "source": [
    "from sklearn.preprocessing import LabelEncoder\n",
    "le = LabelEncoder()\n",
    "data['SurveyResults'] = le.fit_transform(data['SurveyResults'])"
   ]
  },
  {
   "cell_type": "code",
   "execution_count": 34,
   "id": "31e9c914",
   "metadata": {},
   "outputs": [
    {
     "data": {
      "text/html": [
       "<div>\n",
       "<style scoped>\n",
       "    .dataframe tbody tr th:only-of-type {\n",
       "        vertical-align: middle;\n",
       "    }\n",
       "\n",
       "    .dataframe tbody tr th {\n",
       "        vertical-align: top;\n",
       "    }\n",
       "\n",
       "    .dataframe thead th {\n",
       "        text-align: right;\n",
       "    }\n",
       "</style>\n",
       "<table border=\"1\" class=\"dataframe\">\n",
       "  <thead>\n",
       "    <tr style=\"text-align: right;\">\n",
       "      <th></th>\n",
       "      <th>SurveyResults_0</th>\n",
       "      <th>SurveyResults_1</th>\n",
       "    </tr>\n",
       "  </thead>\n",
       "  <tbody>\n",
       "    <tr>\n",
       "      <th>0</th>\n",
       "      <td>True</td>\n",
       "      <td>False</td>\n",
       "    </tr>\n",
       "    <tr>\n",
       "      <th>1</th>\n",
       "      <td>False</td>\n",
       "      <td>True</td>\n",
       "    </tr>\n",
       "    <tr>\n",
       "      <th>2</th>\n",
       "      <td>True</td>\n",
       "      <td>False</td>\n",
       "    </tr>\n",
       "    <tr>\n",
       "      <th>3</th>\n",
       "      <td>False</td>\n",
       "      <td>True</td>\n",
       "    </tr>\n",
       "    <tr>\n",
       "      <th>4</th>\n",
       "      <td>False</td>\n",
       "      <td>True</td>\n",
       "    </tr>\n",
       "    <tr>\n",
       "      <th>...</th>\n",
       "      <td>...</td>\n",
       "      <td>...</td>\n",
       "    </tr>\n",
       "    <tr>\n",
       "      <th>1454</th>\n",
       "      <td>True</td>\n",
       "      <td>False</td>\n",
       "    </tr>\n",
       "    <tr>\n",
       "      <th>1455</th>\n",
       "      <td>False</td>\n",
       "      <td>True</td>\n",
       "    </tr>\n",
       "    <tr>\n",
       "      <th>1456</th>\n",
       "      <td>True</td>\n",
       "      <td>False</td>\n",
       "    </tr>\n",
       "    <tr>\n",
       "      <th>1457</th>\n",
       "      <td>False</td>\n",
       "      <td>True</td>\n",
       "    </tr>\n",
       "    <tr>\n",
       "      <th>1458</th>\n",
       "      <td>False</td>\n",
       "      <td>True</td>\n",
       "    </tr>\n",
       "  </tbody>\n",
       "</table>\n",
       "<p>1459 rows × 2 columns</p>\n",
       "</div>"
      ],
      "text/plain": [
       "      SurveyResults_0  SurveyResults_1\n",
       "0                True            False\n",
       "1               False             True\n",
       "2                True            False\n",
       "3               False             True\n",
       "4               False             True\n",
       "...               ...              ...\n",
       "1454             True            False\n",
       "1455            False             True\n",
       "1456             True            False\n",
       "1457            False             True\n",
       "1458            False             True\n",
       "\n",
       "[1459 rows x 2 columns]"
      ]
     },
     "execution_count": 34,
     "metadata": {},
     "output_type": "execute_result"
    }
   ],
   "source": [
    "pd.get_dummies(data['SurveyResults'],prefix='SurveyResults')"
   ]
  },
  {
   "cell_type": "code",
   "execution_count": 35,
   "id": "9e1ca294",
   "metadata": {},
   "outputs": [
    {
     "data": {
      "text/html": [
       "<div>\n",
       "<style scoped>\n",
       "    .dataframe tbody tr th:only-of-type {\n",
       "        vertical-align: middle;\n",
       "    }\n",
       "\n",
       "    .dataframe tbody tr th {\n",
       "        vertical-align: top;\n",
       "    }\n",
       "\n",
       "    .dataframe thead th {\n",
       "        text-align: right;\n",
       "    }\n",
       "</style>\n",
       "<table border=\"1\" class=\"dataframe\">\n",
       "  <thead>\n",
       "    <tr style=\"text-align: right;\">\n",
       "      <th></th>\n",
       "      <th>Date</th>\n",
       "      <th>Survey</th>\n",
       "      <th>SurveyResults</th>\n",
       "    </tr>\n",
       "  </thead>\n",
       "  <tbody>\n",
       "    <tr>\n",
       "      <th>0</th>\n",
       "      <td>0</td>\n",
       "      <td>7</td>\n",
       "      <td>0</td>\n",
       "    </tr>\n",
       "    <tr>\n",
       "      <th>1</th>\n",
       "      <td>0</td>\n",
       "      <td>10</td>\n",
       "      <td>1</td>\n",
       "    </tr>\n",
       "    <tr>\n",
       "      <th>2</th>\n",
       "      <td>0</td>\n",
       "      <td>5</td>\n",
       "      <td>0</td>\n",
       "    </tr>\n",
       "    <tr>\n",
       "      <th>3</th>\n",
       "      <td>0</td>\n",
       "      <td>9</td>\n",
       "      <td>1</td>\n",
       "    </tr>\n",
       "    <tr>\n",
       "      <th>4</th>\n",
       "      <td>0</td>\n",
       "      <td>9</td>\n",
       "      <td>1</td>\n",
       "    </tr>\n",
       "    <tr>\n",
       "      <th>...</th>\n",
       "      <td>...</td>\n",
       "      <td>...</td>\n",
       "      <td>...</td>\n",
       "    </tr>\n",
       "    <tr>\n",
       "      <th>1454</th>\n",
       "      <td>0</td>\n",
       "      <td>1</td>\n",
       "      <td>0</td>\n",
       "    </tr>\n",
       "    <tr>\n",
       "      <th>1455</th>\n",
       "      <td>0</td>\n",
       "      <td>10</td>\n",
       "      <td>1</td>\n",
       "    </tr>\n",
       "    <tr>\n",
       "      <th>1456</th>\n",
       "      <td>0</td>\n",
       "      <td>5</td>\n",
       "      <td>0</td>\n",
       "    </tr>\n",
       "    <tr>\n",
       "      <th>1457</th>\n",
       "      <td>0</td>\n",
       "      <td>9</td>\n",
       "      <td>1</td>\n",
       "    </tr>\n",
       "    <tr>\n",
       "      <th>1458</th>\n",
       "      <td>0</td>\n",
       "      <td>10</td>\n",
       "      <td>1</td>\n",
       "    </tr>\n",
       "  </tbody>\n",
       "</table>\n",
       "<p>1459 rows × 3 columns</p>\n",
       "</div>"
      ],
      "text/plain": [
       "      Date  Survey  SurveyResults\n",
       "0        0       7              0\n",
       "1        0      10              1\n",
       "2        0       5              0\n",
       "3        0       9              1\n",
       "4        0       9              1\n",
       "...    ...     ...            ...\n",
       "1454     0       1              0\n",
       "1455     0      10              1\n",
       "1456     0       5              0\n",
       "1457     0       9              1\n",
       "1458     0      10              1\n",
       "\n",
       "[1459 rows x 3 columns]"
      ]
     },
     "execution_count": 35,
     "metadata": {},
     "output_type": "execute_result"
    }
   ],
   "source": [
    "data"
   ]
  },
  {
   "cell_type": "code",
   "execution_count": 36,
   "id": "9e317f1c",
   "metadata": {},
   "outputs": [
    {
     "data": {
      "text/html": [
       "<div>\n",
       "<style scoped>\n",
       "    .dataframe tbody tr th:only-of-type {\n",
       "        vertical-align: middle;\n",
       "    }\n",
       "\n",
       "    .dataframe tbody tr th {\n",
       "        vertical-align: top;\n",
       "    }\n",
       "\n",
       "    .dataframe thead th {\n",
       "        text-align: right;\n",
       "    }\n",
       "</style>\n",
       "<table border=\"1\" class=\"dataframe\">\n",
       "  <thead>\n",
       "    <tr style=\"text-align: right;\">\n",
       "      <th></th>\n",
       "      <th>Date</th>\n",
       "      <th>Survey</th>\n",
       "      <th>SurveyResults</th>\n",
       "    </tr>\n",
       "  </thead>\n",
       "  <tbody>\n",
       "    <tr>\n",
       "      <th>Date</th>\n",
       "      <td>NaN</td>\n",
       "      <td>NaN</td>\n",
       "      <td>NaN</td>\n",
       "    </tr>\n",
       "    <tr>\n",
       "      <th>Survey</th>\n",
       "      <td>NaN</td>\n",
       "      <td>1.000000</td>\n",
       "      <td>0.096475</td>\n",
       "    </tr>\n",
       "    <tr>\n",
       "      <th>SurveyResults</th>\n",
       "      <td>NaN</td>\n",
       "      <td>0.096475</td>\n",
       "      <td>1.000000</td>\n",
       "    </tr>\n",
       "  </tbody>\n",
       "</table>\n",
       "</div>"
      ],
      "text/plain": [
       "               Date    Survey  SurveyResults\n",
       "Date            NaN       NaN            NaN\n",
       "Survey          NaN  1.000000       0.096475\n",
       "SurveyResults   NaN  0.096475       1.000000"
      ]
     },
     "execution_count": 36,
     "metadata": {},
     "output_type": "execute_result"
    }
   ],
   "source": [
    "data.corr()"
   ]
  },
  {
   "cell_type": "code",
   "execution_count": 37,
   "id": "11971f1c",
   "metadata": {},
   "outputs": [],
   "source": [
    "x=data.drop(['Survey'],axis=1)\n",
    "y=data['Survey']"
   ]
  },
  {
   "cell_type": "code",
   "execution_count": 38,
   "id": "553a058f",
   "metadata": {},
   "outputs": [
    {
     "data": {
      "text/html": [
       "<div>\n",
       "<style scoped>\n",
       "    .dataframe tbody tr th:only-of-type {\n",
       "        vertical-align: middle;\n",
       "    }\n",
       "\n",
       "    .dataframe tbody tr th {\n",
       "        vertical-align: top;\n",
       "    }\n",
       "\n",
       "    .dataframe thead th {\n",
       "        text-align: right;\n",
       "    }\n",
       "</style>\n",
       "<table border=\"1\" class=\"dataframe\">\n",
       "  <thead>\n",
       "    <tr style=\"text-align: right;\">\n",
       "      <th></th>\n",
       "      <th>Date</th>\n",
       "      <th>SurveyResults</th>\n",
       "    </tr>\n",
       "  </thead>\n",
       "  <tbody>\n",
       "    <tr>\n",
       "      <th>0</th>\n",
       "      <td>0</td>\n",
       "      <td>0</td>\n",
       "    </tr>\n",
       "    <tr>\n",
       "      <th>1</th>\n",
       "      <td>0</td>\n",
       "      <td>1</td>\n",
       "    </tr>\n",
       "    <tr>\n",
       "      <th>2</th>\n",
       "      <td>0</td>\n",
       "      <td>0</td>\n",
       "    </tr>\n",
       "    <tr>\n",
       "      <th>3</th>\n",
       "      <td>0</td>\n",
       "      <td>1</td>\n",
       "    </tr>\n",
       "    <tr>\n",
       "      <th>4</th>\n",
       "      <td>0</td>\n",
       "      <td>1</td>\n",
       "    </tr>\n",
       "    <tr>\n",
       "      <th>...</th>\n",
       "      <td>...</td>\n",
       "      <td>...</td>\n",
       "    </tr>\n",
       "    <tr>\n",
       "      <th>1454</th>\n",
       "      <td>0</td>\n",
       "      <td>0</td>\n",
       "    </tr>\n",
       "    <tr>\n",
       "      <th>1455</th>\n",
       "      <td>0</td>\n",
       "      <td>1</td>\n",
       "    </tr>\n",
       "    <tr>\n",
       "      <th>1456</th>\n",
       "      <td>0</td>\n",
       "      <td>0</td>\n",
       "    </tr>\n",
       "    <tr>\n",
       "      <th>1457</th>\n",
       "      <td>0</td>\n",
       "      <td>1</td>\n",
       "    </tr>\n",
       "    <tr>\n",
       "      <th>1458</th>\n",
       "      <td>0</td>\n",
       "      <td>1</td>\n",
       "    </tr>\n",
       "  </tbody>\n",
       "</table>\n",
       "<p>1459 rows × 2 columns</p>\n",
       "</div>"
      ],
      "text/plain": [
       "      Date  SurveyResults\n",
       "0        0              0\n",
       "1        0              1\n",
       "2        0              0\n",
       "3        0              1\n",
       "4        0              1\n",
       "...    ...            ...\n",
       "1454     0              0\n",
       "1455     0              1\n",
       "1456     0              0\n",
       "1457     0              1\n",
       "1458     0              1\n",
       "\n",
       "[1459 rows x 2 columns]"
      ]
     },
     "execution_count": 38,
     "metadata": {},
     "output_type": "execute_result"
    }
   ],
   "source": [
    "x"
   ]
  },
  {
   "cell_type": "code",
   "execution_count": 39,
   "id": "405e8ae8",
   "metadata": {},
   "outputs": [
    {
     "data": {
      "text/plain": [
       "0        7\n",
       "1       10\n",
       "2        5\n",
       "3        9\n",
       "4        9\n",
       "        ..\n",
       "1454     1\n",
       "1455    10\n",
       "1456     5\n",
       "1457     9\n",
       "1458    10\n",
       "Name: Survey, Length: 1459, dtype: int64"
      ]
     },
     "execution_count": 39,
     "metadata": {},
     "output_type": "execute_result"
    }
   ],
   "source": [
    "y"
   ]
  },
  {
   "cell_type": "code",
   "execution_count": 44,
   "id": "e2186055",
   "metadata": {},
   "outputs": [],
   "source": [
    "from sklearn.model_selection import train_test_split\n",
    "x_train,x_test,y_train,y_test=train_test_split(x,y,test_size=0.2)"
   ]
  },
  {
   "cell_type": "code",
   "execution_count": 46,
   "id": "06a6b293",
   "metadata": {},
   "outputs": [
    {
     "data": {
      "text/html": [
       "<div>\n",
       "<style scoped>\n",
       "    .dataframe tbody tr th:only-of-type {\n",
       "        vertical-align: middle;\n",
       "    }\n",
       "\n",
       "    .dataframe tbody tr th {\n",
       "        vertical-align: top;\n",
       "    }\n",
       "\n",
       "    .dataframe thead th {\n",
       "        text-align: right;\n",
       "    }\n",
       "</style>\n",
       "<table border=\"1\" class=\"dataframe\">\n",
       "  <thead>\n",
       "    <tr style=\"text-align: right;\">\n",
       "      <th></th>\n",
       "      <th>Date</th>\n",
       "      <th>SurveyResults</th>\n",
       "    </tr>\n",
       "  </thead>\n",
       "  <tbody>\n",
       "    <tr>\n",
       "      <th>1379</th>\n",
       "      <td>0</td>\n",
       "      <td>1</td>\n",
       "    </tr>\n",
       "    <tr>\n",
       "      <th>176</th>\n",
       "      <td>0</td>\n",
       "      <td>1</td>\n",
       "    </tr>\n",
       "    <tr>\n",
       "      <th>1211</th>\n",
       "      <td>0</td>\n",
       "      <td>1</td>\n",
       "    </tr>\n",
       "    <tr>\n",
       "      <th>165</th>\n",
       "      <td>0</td>\n",
       "      <td>0</td>\n",
       "    </tr>\n",
       "    <tr>\n",
       "      <th>799</th>\n",
       "      <td>0</td>\n",
       "      <td>0</td>\n",
       "    </tr>\n",
       "    <tr>\n",
       "      <th>...</th>\n",
       "      <td>...</td>\n",
       "      <td>...</td>\n",
       "    </tr>\n",
       "    <tr>\n",
       "      <th>148</th>\n",
       "      <td>0</td>\n",
       "      <td>1</td>\n",
       "    </tr>\n",
       "    <tr>\n",
       "      <th>1448</th>\n",
       "      <td>0</td>\n",
       "      <td>0</td>\n",
       "    </tr>\n",
       "    <tr>\n",
       "      <th>1128</th>\n",
       "      <td>0</td>\n",
       "      <td>1</td>\n",
       "    </tr>\n",
       "    <tr>\n",
       "      <th>310</th>\n",
       "      <td>0</td>\n",
       "      <td>0</td>\n",
       "    </tr>\n",
       "    <tr>\n",
       "      <th>523</th>\n",
       "      <td>0</td>\n",
       "      <td>0</td>\n",
       "    </tr>\n",
       "  </tbody>\n",
       "</table>\n",
       "<p>1167 rows × 2 columns</p>\n",
       "</div>"
      ],
      "text/plain": [
       "      Date  SurveyResults\n",
       "1379     0              1\n",
       "176      0              1\n",
       "1211     0              1\n",
       "165      0              0\n",
       "799      0              0\n",
       "...    ...            ...\n",
       "148      0              1\n",
       "1448     0              0\n",
       "1128     0              1\n",
       "310      0              0\n",
       "523      0              0\n",
       "\n",
       "[1167 rows x 2 columns]"
      ]
     },
     "execution_count": 46,
     "metadata": {},
     "output_type": "execute_result"
    }
   ],
   "source": [
    "x_train"
   ]
  },
  {
   "cell_type": "code",
   "execution_count": 47,
   "id": "c634c533",
   "metadata": {},
   "outputs": [
    {
     "data": {
      "text/html": [
       "<div>\n",
       "<style scoped>\n",
       "    .dataframe tbody tr th:only-of-type {\n",
       "        vertical-align: middle;\n",
       "    }\n",
       "\n",
       "    .dataframe tbody tr th {\n",
       "        vertical-align: top;\n",
       "    }\n",
       "\n",
       "    .dataframe thead th {\n",
       "        text-align: right;\n",
       "    }\n",
       "</style>\n",
       "<table border=\"1\" class=\"dataframe\">\n",
       "  <thead>\n",
       "    <tr style=\"text-align: right;\">\n",
       "      <th></th>\n",
       "      <th>Date</th>\n",
       "      <th>SurveyResults</th>\n",
       "    </tr>\n",
       "  </thead>\n",
       "  <tbody>\n",
       "    <tr>\n",
       "      <th>204</th>\n",
       "      <td>0</td>\n",
       "      <td>1</td>\n",
       "    </tr>\n",
       "    <tr>\n",
       "      <th>425</th>\n",
       "      <td>0</td>\n",
       "      <td>1</td>\n",
       "    </tr>\n",
       "    <tr>\n",
       "      <th>902</th>\n",
       "      <td>0</td>\n",
       "      <td>1</td>\n",
       "    </tr>\n",
       "    <tr>\n",
       "      <th>188</th>\n",
       "      <td>0</td>\n",
       "      <td>1</td>\n",
       "    </tr>\n",
       "    <tr>\n",
       "      <th>222</th>\n",
       "      <td>0</td>\n",
       "      <td>0</td>\n",
       "    </tr>\n",
       "    <tr>\n",
       "      <th>...</th>\n",
       "      <td>...</td>\n",
       "      <td>...</td>\n",
       "    </tr>\n",
       "    <tr>\n",
       "      <th>33</th>\n",
       "      <td>0</td>\n",
       "      <td>0</td>\n",
       "    </tr>\n",
       "    <tr>\n",
       "      <th>452</th>\n",
       "      <td>0</td>\n",
       "      <td>0</td>\n",
       "    </tr>\n",
       "    <tr>\n",
       "      <th>1094</th>\n",
       "      <td>0</td>\n",
       "      <td>1</td>\n",
       "    </tr>\n",
       "    <tr>\n",
       "      <th>474</th>\n",
       "      <td>0</td>\n",
       "      <td>0</td>\n",
       "    </tr>\n",
       "    <tr>\n",
       "      <th>682</th>\n",
       "      <td>0</td>\n",
       "      <td>0</td>\n",
       "    </tr>\n",
       "  </tbody>\n",
       "</table>\n",
       "<p>292 rows × 2 columns</p>\n",
       "</div>"
      ],
      "text/plain": [
       "      Date  SurveyResults\n",
       "204      0              1\n",
       "425      0              1\n",
       "902      0              1\n",
       "188      0              1\n",
       "222      0              0\n",
       "...    ...            ...\n",
       "33       0              0\n",
       "452      0              0\n",
       "1094     0              1\n",
       "474      0              0\n",
       "682      0              0\n",
       "\n",
       "[292 rows x 2 columns]"
      ]
     },
     "execution_count": 47,
     "metadata": {},
     "output_type": "execute_result"
    }
   ],
   "source": [
    "x_test"
   ]
  },
  {
   "cell_type": "code",
   "execution_count": 48,
   "id": "f03738a2",
   "metadata": {},
   "outputs": [
    {
     "data": {
      "text/plain": [
       "1379    10\n",
       "176      9\n",
       "1211    10\n",
       "165      7\n",
       "799      5\n",
       "        ..\n",
       "148      9\n",
       "1448     7\n",
       "1128     9\n",
       "310      7\n",
       "523      7\n",
       "Name: Survey, Length: 1167, dtype: int64"
      ]
     },
     "execution_count": 48,
     "metadata": {},
     "output_type": "execute_result"
    }
   ],
   "source": [
    "y_train"
   ]
  },
  {
   "cell_type": "code",
   "execution_count": 49,
   "id": "286bc703",
   "metadata": {},
   "outputs": [
    {
     "data": {
      "text/plain": [
       "204      9\n",
       "425     10\n",
       "902     10\n",
       "188      8\n",
       "222      7\n",
       "        ..\n",
       "33       1\n",
       "452      5\n",
       "1094     9\n",
       "474      4\n",
       "682      5\n",
       "Name: Survey, Length: 292, dtype: int64"
      ]
     },
     "execution_count": 49,
     "metadata": {},
     "output_type": "execute_result"
    }
   ],
   "source": [
    "y_test"
   ]
  },
  {
   "cell_type": "code",
   "execution_count": 50,
   "id": "d9f72b06",
   "metadata": {},
   "outputs": [
    {
     "data": {
      "text/html": [
       "<style>#sk-container-id-1 {color: black;}#sk-container-id-1 pre{padding: 0;}#sk-container-id-1 div.sk-toggleable {background-color: white;}#sk-container-id-1 label.sk-toggleable__label {cursor: pointer;display: block;width: 100%;margin-bottom: 0;padding: 0.3em;box-sizing: border-box;text-align: center;}#sk-container-id-1 label.sk-toggleable__label-arrow:before {content: \"▸\";float: left;margin-right: 0.25em;color: #696969;}#sk-container-id-1 label.sk-toggleable__label-arrow:hover:before {color: black;}#sk-container-id-1 div.sk-estimator:hover label.sk-toggleable__label-arrow:before {color: black;}#sk-container-id-1 div.sk-toggleable__content {max-height: 0;max-width: 0;overflow: hidden;text-align: left;background-color: #f0f8ff;}#sk-container-id-1 div.sk-toggleable__content pre {margin: 0.2em;color: black;border-radius: 0.25em;background-color: #f0f8ff;}#sk-container-id-1 input.sk-toggleable__control:checked~div.sk-toggleable__content {max-height: 200px;max-width: 100%;overflow: auto;}#sk-container-id-1 input.sk-toggleable__control:checked~label.sk-toggleable__label-arrow:before {content: \"▾\";}#sk-container-id-1 div.sk-estimator input.sk-toggleable__control:checked~label.sk-toggleable__label {background-color: #d4ebff;}#sk-container-id-1 div.sk-label input.sk-toggleable__control:checked~label.sk-toggleable__label {background-color: #d4ebff;}#sk-container-id-1 input.sk-hidden--visually {border: 0;clip: rect(1px 1px 1px 1px);clip: rect(1px, 1px, 1px, 1px);height: 1px;margin: -1px;overflow: hidden;padding: 0;position: absolute;width: 1px;}#sk-container-id-1 div.sk-estimator {font-family: monospace;background-color: #f0f8ff;border: 1px dotted black;border-radius: 0.25em;box-sizing: border-box;margin-bottom: 0.5em;}#sk-container-id-1 div.sk-estimator:hover {background-color: #d4ebff;}#sk-container-id-1 div.sk-parallel-item::after {content: \"\";width: 100%;border-bottom: 1px solid gray;flex-grow: 1;}#sk-container-id-1 div.sk-label:hover label.sk-toggleable__label {background-color: #d4ebff;}#sk-container-id-1 div.sk-serial::before {content: \"\";position: absolute;border-left: 1px solid gray;box-sizing: border-box;top: 0;bottom: 0;left: 50%;z-index: 0;}#sk-container-id-1 div.sk-serial {display: flex;flex-direction: column;align-items: center;background-color: white;padding-right: 0.2em;padding-left: 0.2em;position: relative;}#sk-container-id-1 div.sk-item {position: relative;z-index: 1;}#sk-container-id-1 div.sk-parallel {display: flex;align-items: stretch;justify-content: center;background-color: white;position: relative;}#sk-container-id-1 div.sk-item::before, #sk-container-id-1 div.sk-parallel-item::before {content: \"\";position: absolute;border-left: 1px solid gray;box-sizing: border-box;top: 0;bottom: 0;left: 50%;z-index: -1;}#sk-container-id-1 div.sk-parallel-item {display: flex;flex-direction: column;z-index: 1;position: relative;background-color: white;}#sk-container-id-1 div.sk-parallel-item:first-child::after {align-self: flex-end;width: 50%;}#sk-container-id-1 div.sk-parallel-item:last-child::after {align-self: flex-start;width: 50%;}#sk-container-id-1 div.sk-parallel-item:only-child::after {width: 0;}#sk-container-id-1 div.sk-dashed-wrapped {border: 1px dashed gray;margin: 0 0.4em 0.5em 0.4em;box-sizing: border-box;padding-bottom: 0.4em;background-color: white;}#sk-container-id-1 div.sk-label label {font-family: monospace;font-weight: bold;display: inline-block;line-height: 1.2em;}#sk-container-id-1 div.sk-label-container {text-align: center;}#sk-container-id-1 div.sk-container {/* jupyter's `normalize.less` sets `[hidden] { display: none; }` but bootstrap.min.css set `[hidden] { display: none !important; }` so we also need the `!important` here to be able to override the default hidden behavior on the sphinx rendered scikit-learn.org. See: https://github.com/scikit-learn/scikit-learn/issues/21755 */display: inline-block !important;position: relative;}#sk-container-id-1 div.sk-text-repr-fallback {display: none;}</style><div id=\"sk-container-id-1\" class=\"sk-top-container\"><div class=\"sk-text-repr-fallback\"><pre>LinearRegression()</pre><b>In a Jupyter environment, please rerun this cell to show the HTML representation or trust the notebook. <br />On GitHub, the HTML representation is unable to render, please try loading this page with nbviewer.org.</b></div><div class=\"sk-container\" hidden><div class=\"sk-item\"><div class=\"sk-estimator sk-toggleable\"><input class=\"sk-toggleable__control sk-hidden--visually\" id=\"sk-estimator-id-1\" type=\"checkbox\" checked><label for=\"sk-estimator-id-1\" class=\"sk-toggleable__label sk-toggleable__label-arrow\">LinearRegression</label><div class=\"sk-toggleable__content\"><pre>LinearRegression()</pre></div></div></div></div></div>"
      ],
      "text/plain": [
       "LinearRegression()"
      ]
     },
     "execution_count": 50,
     "metadata": {},
     "output_type": "execute_result"
    }
   ],
   "source": [
    "from sklearn.linear_model import LinearRegression\n",
    "lr=LinearRegression()\n",
    "lr.fit(x_train,y_train)"
   ]
  },
  {
   "cell_type": "code",
   "execution_count": 51,
   "id": "7c1398f6",
   "metadata": {},
   "outputs": [],
   "source": [
    "y_lr_train_pred=lr.predict(x_train)\n",
    "y_lr_test_pred=lr.predict(x_test)"
   ]
  },
  {
   "cell_type": "code",
   "execution_count": 52,
   "id": "66bbc0a7",
   "metadata": {},
   "outputs": [
    {
     "data": {
      "text/plain": [
       "array([11.86600846, 11.86600846, 11.86600846, ..., 11.86600846,\n",
       "        4.37991266,  4.37991266])"
      ]
     },
     "execution_count": 52,
     "metadata": {},
     "output_type": "execute_result"
    }
   ],
   "source": [
    "y_lr_train_pred"
   ]
  },
  {
   "cell_type": "code",
   "execution_count": 53,
   "id": "347dfbdb",
   "metadata": {},
   "outputs": [
    {
     "data": {
      "text/plain": [
       "array([11.86600846, 11.86600846, 11.86600846, 11.86600846,  4.37991266,\n",
       "       11.86600846,  4.37991266, 11.86600846, 11.86600846, 11.86600846,\n",
       "       11.86600846, 11.86600846,  4.37991266,  4.37991266, 11.86600846,\n",
       "        4.37991266,  4.37991266, 11.86600846, 11.86600846, 11.86600846,\n",
       "       11.86600846,  4.37991266, 11.86600846, 11.86600846, 11.86600846,\n",
       "       11.86600846,  4.37991266,  4.37991266, 11.86600846,  4.37991266,\n",
       "       11.86600846,  4.37991266, 11.86600846,  4.37991266,  4.37991266,\n",
       "       11.86600846,  4.37991266,  4.37991266,  4.37991266,  4.37991266,\n",
       "       11.86600846, 11.86600846, 11.86600846,  4.37991266,  4.37991266,\n",
       "        4.37991266, 11.86600846, 11.86600846, 11.86600846,  4.37991266,\n",
       "        4.37991266,  4.37991266,  4.37991266,  4.37991266,  4.37991266,\n",
       "       11.86600846,  4.37991266, 11.86600846,  4.37991266,  4.37991266,\n",
       "       11.86600846, 11.86600846, 11.86600846, 11.86600846,  4.37991266,\n",
       "        4.37991266,  4.37991266, 11.86600846, 11.86600846, 11.86600846,\n",
       "       11.86600846, 11.86600846, 11.86600846, 11.86600846, 11.86600846,\n",
       "       11.86600846, 11.86600846, 11.86600846, 11.86600846,  4.37991266,\n",
       "       11.86600846, 11.86600846,  4.37991266, 11.86600846, 11.86600846,\n",
       "       11.86600846,  4.37991266,  4.37991266, 11.86600846, 11.86600846,\n",
       "       11.86600846, 11.86600846, 11.86600846,  4.37991266, 11.86600846,\n",
       "       11.86600846, 11.86600846,  4.37991266, 11.86600846, 11.86600846,\n",
       "        4.37991266, 11.86600846, 11.86600846, 11.86600846, 11.86600846,\n",
       "        4.37991266, 11.86600846, 11.86600846,  4.37991266, 11.86600846,\n",
       "       11.86600846, 11.86600846,  4.37991266,  4.37991266,  4.37991266,\n",
       "       11.86600846, 11.86600846, 11.86600846,  4.37991266, 11.86600846,\n",
       "       11.86600846, 11.86600846,  4.37991266,  4.37991266,  4.37991266,\n",
       "       11.86600846, 11.86600846, 11.86600846,  4.37991266,  4.37991266,\n",
       "       11.86600846, 11.86600846, 11.86600846, 11.86600846, 11.86600846,\n",
       "        4.37991266,  4.37991266, 11.86600846,  4.37991266,  4.37991266,\n",
       "       11.86600846,  4.37991266, 11.86600846,  4.37991266, 11.86600846,\n",
       "       11.86600846, 11.86600846, 11.86600846,  4.37991266, 11.86600846,\n",
       "        4.37991266, 11.86600846, 11.86600846,  4.37991266, 11.86600846,\n",
       "       11.86600846,  4.37991266, 11.86600846, 11.86600846, 11.86600846,\n",
       "       11.86600846, 11.86600846, 11.86600846, 11.86600846,  4.37991266,\n",
       "       11.86600846, 11.86600846, 11.86600846, 11.86600846,  4.37991266,\n",
       "       11.86600846,  4.37991266,  4.37991266,  4.37991266, 11.86600846,\n",
       "       11.86600846, 11.86600846, 11.86600846,  4.37991266, 11.86600846,\n",
       "       11.86600846, 11.86600846, 11.86600846,  4.37991266,  4.37991266,\n",
       "       11.86600846, 11.86600846, 11.86600846, 11.86600846,  4.37991266,\n",
       "       11.86600846,  4.37991266, 11.86600846, 11.86600846, 11.86600846,\n",
       "        4.37991266,  4.37991266,  4.37991266, 11.86600846,  4.37991266,\n",
       "       11.86600846, 11.86600846,  4.37991266, 11.86600846, 11.86600846,\n",
       "       11.86600846, 11.86600846,  4.37991266,  4.37991266, 11.86600846,\n",
       "       11.86600846,  4.37991266,  4.37991266, 11.86600846, 11.86600846,\n",
       "       11.86600846, 11.86600846, 11.86600846,  4.37991266, 11.86600846,\n",
       "        4.37991266,  4.37991266, 11.86600846,  4.37991266, 11.86600846,\n",
       "       11.86600846, 11.86600846,  4.37991266, 11.86600846,  4.37991266,\n",
       "        4.37991266, 11.86600846,  4.37991266, 11.86600846, 11.86600846,\n",
       "       11.86600846,  4.37991266, 11.86600846, 11.86600846,  4.37991266,\n",
       "        4.37991266,  4.37991266,  4.37991266, 11.86600846, 11.86600846,\n",
       "        4.37991266, 11.86600846, 11.86600846, 11.86600846, 11.86600846,\n",
       "       11.86600846, 11.86600846,  4.37991266, 11.86600846, 11.86600846,\n",
       "        4.37991266, 11.86600846, 11.86600846, 11.86600846, 11.86600846,\n",
       "        4.37991266, 11.86600846, 11.86600846, 11.86600846,  4.37991266,\n",
       "       11.86600846, 11.86600846,  4.37991266,  4.37991266,  4.37991266,\n",
       "        4.37991266, 11.86600846,  4.37991266,  4.37991266,  4.37991266,\n",
       "        4.37991266, 11.86600846, 11.86600846,  4.37991266, 11.86600846,\n",
       "       11.86600846, 11.86600846,  4.37991266, 11.86600846, 11.86600846,\n",
       "       11.86600846, 11.86600846,  4.37991266,  4.37991266, 11.86600846,\n",
       "        4.37991266,  4.37991266])"
      ]
     },
     "execution_count": 53,
     "metadata": {},
     "output_type": "execute_result"
    }
   ],
   "source": [
    "y_lr_test_pred"
   ]
  },
  {
   "cell_type": "code",
   "execution_count": 54,
   "id": "decef44b",
   "metadata": {},
   "outputs": [],
   "source": [
    "from sklearn.metrics import mean_squared_error,r2_score\n",
    "lr_train_mse = mean_squared_error(y_train,y_lr_train_pred)\n",
    "lr_train_r2=r2_score(y_train,y_lr_train_pred)\n",
    "\n",
    "lr_test_mse=mean_squared_error(y_test,y_lr_test_pred)\n",
    "lr_test_r2=r2_score(y_test,y_lr_test_pred)"
   ]
  },
  {
   "cell_type": "code",
   "execution_count": 55,
   "id": "08121ba2",
   "metadata": {},
   "outputs": [
    {
     "data": {
      "text/plain": [
       "1551.4088826053608"
      ]
     },
     "execution_count": 55,
     "metadata": {},
     "output_type": "execute_result"
    }
   ],
   "source": [
    "lr_train_mse"
   ]
  },
  {
   "cell_type": "code",
   "execution_count": 56,
   "id": "7293bd63",
   "metadata": {},
   "outputs": [
    {
     "data": {
      "text/plain": [
       "0.008539450520561931"
      ]
     },
     "execution_count": 56,
     "metadata": {},
     "output_type": "execute_result"
    }
   ],
   "source": [
    "lr_train_r2"
   ]
  },
  {
   "cell_type": "code",
   "execution_count": 57,
   "id": "5000944c",
   "metadata": {},
   "outputs": [
    {
     "data": {
      "text/plain": [
       "6.611674437391751"
      ]
     },
     "execution_count": 57,
     "metadata": {},
     "output_type": "execute_result"
    }
   ],
   "source": [
    "lr_test_mse"
   ]
  },
  {
   "cell_type": "code",
   "execution_count": 58,
   "id": "7f479e00",
   "metadata": {},
   "outputs": [
    {
     "data": {
      "text/plain": [
       "0.21429394442060645"
      ]
     },
     "execution_count": 58,
     "metadata": {},
     "output_type": "execute_result"
    }
   ],
   "source": [
    "lr_test_r2"
   ]
  },
  {
   "cell_type": "code",
   "execution_count": 59,
   "id": "0605b9c7",
   "metadata": {},
   "outputs": [],
   "source": [
    "lr_results=pd.DataFrame(['Linear Regression',lr_test_mse,lr_train_r2,lr_test_mse,lr_test_r2]).transpose()"
   ]
  },
  {
   "cell_type": "code",
   "execution_count": 60,
   "id": "914a5861",
   "metadata": {},
   "outputs": [],
   "source": [
    "lr_results.columns=['Methods','Training MSE','Training R2','Testing MSE','Testing R2']"
   ]
  },
  {
   "cell_type": "code",
   "execution_count": 61,
   "id": "fae9a60e",
   "metadata": {},
   "outputs": [
    {
     "data": {
      "text/html": [
       "<div>\n",
       "<style scoped>\n",
       "    .dataframe tbody tr th:only-of-type {\n",
       "        vertical-align: middle;\n",
       "    }\n",
       "\n",
       "    .dataframe tbody tr th {\n",
       "        vertical-align: top;\n",
       "    }\n",
       "\n",
       "    .dataframe thead th {\n",
       "        text-align: right;\n",
       "    }\n",
       "</style>\n",
       "<table border=\"1\" class=\"dataframe\">\n",
       "  <thead>\n",
       "    <tr style=\"text-align: right;\">\n",
       "      <th></th>\n",
       "      <th>Methods</th>\n",
       "      <th>Training MSE</th>\n",
       "      <th>Training R2</th>\n",
       "      <th>Testing MSE</th>\n",
       "      <th>Testing R2</th>\n",
       "    </tr>\n",
       "  </thead>\n",
       "  <tbody>\n",
       "    <tr>\n",
       "      <th>0</th>\n",
       "      <td>Linear Regression</td>\n",
       "      <td>6.611674</td>\n",
       "      <td>0.008539</td>\n",
       "      <td>6.611674</td>\n",
       "      <td>0.214294</td>\n",
       "    </tr>\n",
       "  </tbody>\n",
       "</table>\n",
       "</div>"
      ],
      "text/plain": [
       "             Methods Training MSE Training R2 Testing MSE Testing R2\n",
       "0  Linear Regression     6.611674    0.008539    6.611674   0.214294"
      ]
     },
     "execution_count": 61,
     "metadata": {},
     "output_type": "execute_result"
    }
   ],
   "source": [
    "lr_results"
   ]
  },
  {
   "cell_type": "code",
   "execution_count": 62,
   "id": "5c4e118f",
   "metadata": {},
   "outputs": [
    {
     "data": {
      "text/html": [
       "<style>#sk-container-id-2 {color: black;}#sk-container-id-2 pre{padding: 0;}#sk-container-id-2 div.sk-toggleable {background-color: white;}#sk-container-id-2 label.sk-toggleable__label {cursor: pointer;display: block;width: 100%;margin-bottom: 0;padding: 0.3em;box-sizing: border-box;text-align: center;}#sk-container-id-2 label.sk-toggleable__label-arrow:before {content: \"▸\";float: left;margin-right: 0.25em;color: #696969;}#sk-container-id-2 label.sk-toggleable__label-arrow:hover:before {color: black;}#sk-container-id-2 div.sk-estimator:hover label.sk-toggleable__label-arrow:before {color: black;}#sk-container-id-2 div.sk-toggleable__content {max-height: 0;max-width: 0;overflow: hidden;text-align: left;background-color: #f0f8ff;}#sk-container-id-2 div.sk-toggleable__content pre {margin: 0.2em;color: black;border-radius: 0.25em;background-color: #f0f8ff;}#sk-container-id-2 input.sk-toggleable__control:checked~div.sk-toggleable__content {max-height: 200px;max-width: 100%;overflow: auto;}#sk-container-id-2 input.sk-toggleable__control:checked~label.sk-toggleable__label-arrow:before {content: \"▾\";}#sk-container-id-2 div.sk-estimator input.sk-toggleable__control:checked~label.sk-toggleable__label {background-color: #d4ebff;}#sk-container-id-2 div.sk-label input.sk-toggleable__control:checked~label.sk-toggleable__label {background-color: #d4ebff;}#sk-container-id-2 input.sk-hidden--visually {border: 0;clip: rect(1px 1px 1px 1px);clip: rect(1px, 1px, 1px, 1px);height: 1px;margin: -1px;overflow: hidden;padding: 0;position: absolute;width: 1px;}#sk-container-id-2 div.sk-estimator {font-family: monospace;background-color: #f0f8ff;border: 1px dotted black;border-radius: 0.25em;box-sizing: border-box;margin-bottom: 0.5em;}#sk-container-id-2 div.sk-estimator:hover {background-color: #d4ebff;}#sk-container-id-2 div.sk-parallel-item::after {content: \"\";width: 100%;border-bottom: 1px solid gray;flex-grow: 1;}#sk-container-id-2 div.sk-label:hover label.sk-toggleable__label {background-color: #d4ebff;}#sk-container-id-2 div.sk-serial::before {content: \"\";position: absolute;border-left: 1px solid gray;box-sizing: border-box;top: 0;bottom: 0;left: 50%;z-index: 0;}#sk-container-id-2 div.sk-serial {display: flex;flex-direction: column;align-items: center;background-color: white;padding-right: 0.2em;padding-left: 0.2em;position: relative;}#sk-container-id-2 div.sk-item {position: relative;z-index: 1;}#sk-container-id-2 div.sk-parallel {display: flex;align-items: stretch;justify-content: center;background-color: white;position: relative;}#sk-container-id-2 div.sk-item::before, #sk-container-id-2 div.sk-parallel-item::before {content: \"\";position: absolute;border-left: 1px solid gray;box-sizing: border-box;top: 0;bottom: 0;left: 50%;z-index: -1;}#sk-container-id-2 div.sk-parallel-item {display: flex;flex-direction: column;z-index: 1;position: relative;background-color: white;}#sk-container-id-2 div.sk-parallel-item:first-child::after {align-self: flex-end;width: 50%;}#sk-container-id-2 div.sk-parallel-item:last-child::after {align-self: flex-start;width: 50%;}#sk-container-id-2 div.sk-parallel-item:only-child::after {width: 0;}#sk-container-id-2 div.sk-dashed-wrapped {border: 1px dashed gray;margin: 0 0.4em 0.5em 0.4em;box-sizing: border-box;padding-bottom: 0.4em;background-color: white;}#sk-container-id-2 div.sk-label label {font-family: monospace;font-weight: bold;display: inline-block;line-height: 1.2em;}#sk-container-id-2 div.sk-label-container {text-align: center;}#sk-container-id-2 div.sk-container {/* jupyter's `normalize.less` sets `[hidden] { display: none; }` but bootstrap.min.css set `[hidden] { display: none !important; }` so we also need the `!important` here to be able to override the default hidden behavior on the sphinx rendered scikit-learn.org. See: https://github.com/scikit-learn/scikit-learn/issues/21755 */display: inline-block !important;position: relative;}#sk-container-id-2 div.sk-text-repr-fallback {display: none;}</style><div id=\"sk-container-id-2\" class=\"sk-top-container\"><div class=\"sk-text-repr-fallback\"><pre>RandomForestRegressor(max_depth=2, random_state=100)</pre><b>In a Jupyter environment, please rerun this cell to show the HTML representation or trust the notebook. <br />On GitHub, the HTML representation is unable to render, please try loading this page with nbviewer.org.</b></div><div class=\"sk-container\" hidden><div class=\"sk-item\"><div class=\"sk-estimator sk-toggleable\"><input class=\"sk-toggleable__control sk-hidden--visually\" id=\"sk-estimator-id-2\" type=\"checkbox\" checked><label for=\"sk-estimator-id-2\" class=\"sk-toggleable__label sk-toggleable__label-arrow\">RandomForestRegressor</label><div class=\"sk-toggleable__content\"><pre>RandomForestRegressor(max_depth=2, random_state=100)</pre></div></div></div></div></div>"
      ],
      "text/plain": [
       "RandomForestRegressor(max_depth=2, random_state=100)"
      ]
     },
     "execution_count": 62,
     "metadata": {},
     "output_type": "execute_result"
    }
   ],
   "source": [
    "from sklearn.ensemble import RandomForestRegressor\n",
    "rf=RandomForestRegressor(max_depth=2,random_state=100)\n",
    "rf.fit(x_train,y_train)"
   ]
  },
  {
   "cell_type": "code",
   "execution_count": 63,
   "id": "7675c3db",
   "metadata": {},
   "outputs": [],
   "source": [
    "y_rf_train_pred=rf.predict(x_train)\n",
    "y_rf_test_pred=rf.predict(x_test)"
   ]
  },
  {
   "cell_type": "code",
   "execution_count": 64,
   "id": "05c7960b",
   "metadata": {},
   "outputs": [
    {
     "data": {
      "text/plain": [
       "array([11.6701288 , 11.6701288 , 11.6701288 , ..., 11.6701288 ,\n",
       "        4.36091617,  4.36091617])"
      ]
     },
     "execution_count": 64,
     "metadata": {},
     "output_type": "execute_result"
    }
   ],
   "source": [
    "y_rf_train_pred"
   ]
  },
  {
   "cell_type": "code",
   "execution_count": 65,
   "id": "a4244ebd",
   "metadata": {},
   "outputs": [
    {
     "data": {
      "text/plain": [
       "array([11.6701288 , 11.6701288 , 11.6701288 , 11.6701288 ,  4.36091617,\n",
       "       11.6701288 ,  4.36091617, 11.6701288 , 11.6701288 , 11.6701288 ,\n",
       "       11.6701288 , 11.6701288 ,  4.36091617,  4.36091617, 11.6701288 ,\n",
       "        4.36091617,  4.36091617, 11.6701288 , 11.6701288 , 11.6701288 ,\n",
       "       11.6701288 ,  4.36091617, 11.6701288 , 11.6701288 , 11.6701288 ,\n",
       "       11.6701288 ,  4.36091617,  4.36091617, 11.6701288 ,  4.36091617,\n",
       "       11.6701288 ,  4.36091617, 11.6701288 ,  4.36091617,  4.36091617,\n",
       "       11.6701288 ,  4.36091617,  4.36091617,  4.36091617,  4.36091617,\n",
       "       11.6701288 , 11.6701288 , 11.6701288 ,  4.36091617,  4.36091617,\n",
       "        4.36091617, 11.6701288 , 11.6701288 , 11.6701288 ,  4.36091617,\n",
       "        4.36091617,  4.36091617,  4.36091617,  4.36091617,  4.36091617,\n",
       "       11.6701288 ,  4.36091617, 11.6701288 ,  4.36091617,  4.36091617,\n",
       "       11.6701288 , 11.6701288 , 11.6701288 , 11.6701288 ,  4.36091617,\n",
       "        4.36091617,  4.36091617, 11.6701288 , 11.6701288 , 11.6701288 ,\n",
       "       11.6701288 , 11.6701288 , 11.6701288 , 11.6701288 , 11.6701288 ,\n",
       "       11.6701288 , 11.6701288 , 11.6701288 , 11.6701288 ,  4.36091617,\n",
       "       11.6701288 , 11.6701288 ,  4.36091617, 11.6701288 , 11.6701288 ,\n",
       "       11.6701288 ,  4.36091617,  4.36091617, 11.6701288 , 11.6701288 ,\n",
       "       11.6701288 , 11.6701288 , 11.6701288 ,  4.36091617, 11.6701288 ,\n",
       "       11.6701288 , 11.6701288 ,  4.36091617, 11.6701288 , 11.6701288 ,\n",
       "        4.36091617, 11.6701288 , 11.6701288 , 11.6701288 , 11.6701288 ,\n",
       "        4.36091617, 11.6701288 , 11.6701288 ,  4.36091617, 11.6701288 ,\n",
       "       11.6701288 , 11.6701288 ,  4.36091617,  4.36091617,  4.36091617,\n",
       "       11.6701288 , 11.6701288 , 11.6701288 ,  4.36091617, 11.6701288 ,\n",
       "       11.6701288 , 11.6701288 ,  4.36091617,  4.36091617,  4.36091617,\n",
       "       11.6701288 , 11.6701288 , 11.6701288 ,  4.36091617,  4.36091617,\n",
       "       11.6701288 , 11.6701288 , 11.6701288 , 11.6701288 , 11.6701288 ,\n",
       "        4.36091617,  4.36091617, 11.6701288 ,  4.36091617,  4.36091617,\n",
       "       11.6701288 ,  4.36091617, 11.6701288 ,  4.36091617, 11.6701288 ,\n",
       "       11.6701288 , 11.6701288 , 11.6701288 ,  4.36091617, 11.6701288 ,\n",
       "        4.36091617, 11.6701288 , 11.6701288 ,  4.36091617, 11.6701288 ,\n",
       "       11.6701288 ,  4.36091617, 11.6701288 , 11.6701288 , 11.6701288 ,\n",
       "       11.6701288 , 11.6701288 , 11.6701288 , 11.6701288 ,  4.36091617,\n",
       "       11.6701288 , 11.6701288 , 11.6701288 , 11.6701288 ,  4.36091617,\n",
       "       11.6701288 ,  4.36091617,  4.36091617,  4.36091617, 11.6701288 ,\n",
       "       11.6701288 , 11.6701288 , 11.6701288 ,  4.36091617, 11.6701288 ,\n",
       "       11.6701288 , 11.6701288 , 11.6701288 ,  4.36091617,  4.36091617,\n",
       "       11.6701288 , 11.6701288 , 11.6701288 , 11.6701288 ,  4.36091617,\n",
       "       11.6701288 ,  4.36091617, 11.6701288 , 11.6701288 , 11.6701288 ,\n",
       "        4.36091617,  4.36091617,  4.36091617, 11.6701288 ,  4.36091617,\n",
       "       11.6701288 , 11.6701288 ,  4.36091617, 11.6701288 , 11.6701288 ,\n",
       "       11.6701288 , 11.6701288 ,  4.36091617,  4.36091617, 11.6701288 ,\n",
       "       11.6701288 ,  4.36091617,  4.36091617, 11.6701288 , 11.6701288 ,\n",
       "       11.6701288 , 11.6701288 , 11.6701288 ,  4.36091617, 11.6701288 ,\n",
       "        4.36091617,  4.36091617, 11.6701288 ,  4.36091617, 11.6701288 ,\n",
       "       11.6701288 , 11.6701288 ,  4.36091617, 11.6701288 ,  4.36091617,\n",
       "        4.36091617, 11.6701288 ,  4.36091617, 11.6701288 , 11.6701288 ,\n",
       "       11.6701288 ,  4.36091617, 11.6701288 , 11.6701288 ,  4.36091617,\n",
       "        4.36091617,  4.36091617,  4.36091617, 11.6701288 , 11.6701288 ,\n",
       "        4.36091617, 11.6701288 , 11.6701288 , 11.6701288 , 11.6701288 ,\n",
       "       11.6701288 , 11.6701288 ,  4.36091617, 11.6701288 , 11.6701288 ,\n",
       "        4.36091617, 11.6701288 , 11.6701288 , 11.6701288 , 11.6701288 ,\n",
       "        4.36091617, 11.6701288 , 11.6701288 , 11.6701288 ,  4.36091617,\n",
       "       11.6701288 , 11.6701288 ,  4.36091617,  4.36091617,  4.36091617,\n",
       "        4.36091617, 11.6701288 ,  4.36091617,  4.36091617,  4.36091617,\n",
       "        4.36091617, 11.6701288 , 11.6701288 ,  4.36091617, 11.6701288 ,\n",
       "       11.6701288 , 11.6701288 ,  4.36091617, 11.6701288 , 11.6701288 ,\n",
       "       11.6701288 , 11.6701288 ,  4.36091617,  4.36091617, 11.6701288 ,\n",
       "        4.36091617,  4.36091617])"
      ]
     },
     "execution_count": 65,
     "metadata": {},
     "output_type": "execute_result"
    }
   ],
   "source": [
    "y_rf_test_pred"
   ]
  },
  {
   "cell_type": "code",
   "execution_count": 66,
   "id": "2b9863b6",
   "metadata": {},
   "outputs": [],
   "source": [
    "from sklearn.metrics import mean_squared_error,r2_score\n",
    "\n",
    "rf_train_mse = mean_squared_error(y_train,y_rf_train_pred)\n",
    "rf_train_r2=r2_score(y_train,y_rf_train_pred)\n",
    "\n",
    "rf_test_mse=mean_squared_error(y_test,y_rf_test_pred)\n",
    "rf_test_r2=r2_score(y_test,y_rf_test_pred)"
   ]
  },
  {
   "cell_type": "code",
   "execution_count": 67,
   "id": "cf010d55",
   "metadata": {},
   "outputs": [],
   "source": [
    "rf_results=pd.DataFrame(['Random Regression',rf_test_mse,rf_train_r2,rf_test_mse,rf_test_r2]).transpose()\n",
    "rf_results.columns=['Methods','Training MSE','Training R2','Testing MSE','Testing R2']"
   ]
  },
  {
   "cell_type": "code",
   "execution_count": 68,
   "id": "2040090c",
   "metadata": {},
   "outputs": [
    {
     "data": {
      "text/html": [
       "<div>\n",
       "<style scoped>\n",
       "    .dataframe tbody tr th:only-of-type {\n",
       "        vertical-align: middle;\n",
       "    }\n",
       "\n",
       "    .dataframe tbody tr th {\n",
       "        vertical-align: top;\n",
       "    }\n",
       "\n",
       "    .dataframe thead th {\n",
       "        text-align: right;\n",
       "    }\n",
       "</style>\n",
       "<table border=\"1\" class=\"dataframe\">\n",
       "  <thead>\n",
       "    <tr style=\"text-align: right;\">\n",
       "      <th></th>\n",
       "      <th>Methods</th>\n",
       "      <th>Training MSE</th>\n",
       "      <th>Training R2</th>\n",
       "      <th>Testing MSE</th>\n",
       "      <th>Testing R2</th>\n",
       "    </tr>\n",
       "  </thead>\n",
       "  <tbody>\n",
       "    <tr>\n",
       "      <th>0</th>\n",
       "      <td>Random Regression</td>\n",
       "      <td>5.98776</td>\n",
       "      <td>0.008524</td>\n",
       "      <td>5.98776</td>\n",
       "      <td>0.288438</td>\n",
       "    </tr>\n",
       "  </tbody>\n",
       "</table>\n",
       "</div>"
      ],
      "text/plain": [
       "             Methods Training MSE Training R2 Testing MSE Testing R2\n",
       "0  Random Regression      5.98776    0.008524     5.98776   0.288438"
      ]
     },
     "execution_count": 68,
     "metadata": {},
     "output_type": "execute_result"
    }
   ],
   "source": [
    "rf_results"
   ]
  },
  {
   "cell_type": "code",
   "execution_count": 69,
   "id": "883864ba",
   "metadata": {},
   "outputs": [],
   "source": [
    "df_models=pd.concat([lr_results,rf_results],axis=0) #axis=1 column wise , axis=0 row wise"
   ]
  },
  {
   "cell_type": "code",
   "execution_count": 70,
   "id": "2dfa4c77",
   "metadata": {},
   "outputs": [
    {
     "data": {
      "text/html": [
       "<div>\n",
       "<style scoped>\n",
       "    .dataframe tbody tr th:only-of-type {\n",
       "        vertical-align: middle;\n",
       "    }\n",
       "\n",
       "    .dataframe tbody tr th {\n",
       "        vertical-align: top;\n",
       "    }\n",
       "\n",
       "    .dataframe thead th {\n",
       "        text-align: right;\n",
       "    }\n",
       "</style>\n",
       "<table border=\"1\" class=\"dataframe\">\n",
       "  <thead>\n",
       "    <tr style=\"text-align: right;\">\n",
       "      <th></th>\n",
       "      <th>Methods</th>\n",
       "      <th>Training MSE</th>\n",
       "      <th>Training R2</th>\n",
       "      <th>Testing MSE</th>\n",
       "      <th>Testing R2</th>\n",
       "    </tr>\n",
       "  </thead>\n",
       "  <tbody>\n",
       "    <tr>\n",
       "      <th>0</th>\n",
       "      <td>Linear Regression</td>\n",
       "      <td>6.611674</td>\n",
       "      <td>0.008539</td>\n",
       "      <td>6.611674</td>\n",
       "      <td>0.214294</td>\n",
       "    </tr>\n",
       "    <tr>\n",
       "      <th>0</th>\n",
       "      <td>Random Regression</td>\n",
       "      <td>5.98776</td>\n",
       "      <td>0.008524</td>\n",
       "      <td>5.98776</td>\n",
       "      <td>0.288438</td>\n",
       "    </tr>\n",
       "  </tbody>\n",
       "</table>\n",
       "</div>"
      ],
      "text/plain": [
       "             Methods Training MSE Training R2 Testing MSE Testing R2\n",
       "0  Linear Regression     6.611674    0.008539    6.611674   0.214294\n",
       "0  Random Regression      5.98776    0.008524     5.98776   0.288438"
      ]
     },
     "execution_count": 70,
     "metadata": {},
     "output_type": "execute_result"
    }
   ],
   "source": [
    "df_models"
   ]
  },
  {
   "cell_type": "code",
   "execution_count": 71,
   "id": "35447a27",
   "metadata": {},
   "outputs": [
    {
     "data": {
      "text/html": [
       "<div>\n",
       "<style scoped>\n",
       "    .dataframe tbody tr th:only-of-type {\n",
       "        vertical-align: middle;\n",
       "    }\n",
       "\n",
       "    .dataframe tbody tr th {\n",
       "        vertical-align: top;\n",
       "    }\n",
       "\n",
       "    .dataframe thead th {\n",
       "        text-align: right;\n",
       "    }\n",
       "</style>\n",
       "<table border=\"1\" class=\"dataframe\">\n",
       "  <thead>\n",
       "    <tr style=\"text-align: right;\">\n",
       "      <th></th>\n",
       "      <th>Methods</th>\n",
       "      <th>Training MSE</th>\n",
       "      <th>Training R2</th>\n",
       "      <th>Testing MSE</th>\n",
       "      <th>Testing R2</th>\n",
       "    </tr>\n",
       "  </thead>\n",
       "  <tbody>\n",
       "    <tr>\n",
       "      <th>0</th>\n",
       "      <td>Linear Regression</td>\n",
       "      <td>6.611674</td>\n",
       "      <td>0.008539</td>\n",
       "      <td>6.611674</td>\n",
       "      <td>0.214294</td>\n",
       "    </tr>\n",
       "    <tr>\n",
       "      <th>1</th>\n",
       "      <td>Random Regression</td>\n",
       "      <td>5.98776</td>\n",
       "      <td>0.008524</td>\n",
       "      <td>5.98776</td>\n",
       "      <td>0.288438</td>\n",
       "    </tr>\n",
       "  </tbody>\n",
       "</table>\n",
       "</div>"
      ],
      "text/plain": [
       "             Methods Training MSE Training R2 Testing MSE Testing R2\n",
       "0  Linear Regression     6.611674    0.008539    6.611674   0.214294\n",
       "1  Random Regression      5.98776    0.008524     5.98776   0.288438"
      ]
     },
     "execution_count": 71,
     "metadata": {},
     "output_type": "execute_result"
    }
   ],
   "source": [
    "df_models.reset_index(drop=True)"
   ]
  },
  {
   "cell_type": "code",
   "execution_count": 73,
   "id": "d7ce93ac",
   "metadata": {},
   "outputs": [
    {
     "data": {
      "text/plain": [
       "Text(0.5, 0, 'Experiments')"
      ]
     },
     "execution_count": 73,
     "metadata": {},
     "output_type": "execute_result"
    },
    {
     "data": {
      "image/png": "[encoded data removed]",
      "text/plain": [
       "<Figure size 640x480 with 1 Axes>"
      ]
     },
     "metadata": {},
     "output_type": "display_data"
    }
   ],
   "source": [
    "import matplotlib.pyplot as plt\n",
    "plt.scatter(x=y_train,y=y_lr_train_pred)\n",
    "plt.ylabel(\"Predict Prices\")\n",
    "plt.xlabel(\"Experiments\")"
   ]
  },
  {
   "cell_type": "code",
   "execution_count": 75,
   "id": "337747ea",
   "metadata": {},
   "outputs": [],
   "source": [
    "train_data=x_train.join(y_train)"
   ]
  },
  {
   "cell_type": "code",
   "execution_count": 76,
   "id": "28712da0",
   "metadata": {},
   "outputs": [
    {
     "data": {
      "text/html": [
       "<div>\n",
       "<style scoped>\n",
       "    .dataframe tbody tr th:only-of-type {\n",
       "        vertical-align: middle;\n",
       "    }\n",
       "\n",
       "    .dataframe tbody tr th {\n",
       "        vertical-align: top;\n",
       "    }\n",
       "\n",
       "    .dataframe thead th {\n",
       "        text-align: right;\n",
       "    }\n",
       "</style>\n",
       "<table border=\"1\" class=\"dataframe\">\n",
       "  <thead>\n",
       "    <tr style=\"text-align: right;\">\n",
       "      <th></th>\n",
       "      <th>Date</th>\n",
       "      <th>SurveyResults</th>\n",
       "      <th>Survey</th>\n",
       "    </tr>\n",
       "  </thead>\n",
       "  <tbody>\n",
       "    <tr>\n",
       "      <th>1379</th>\n",
       "      <td>0</td>\n",
       "      <td>1</td>\n",
       "      <td>10</td>\n",
       "    </tr>\n",
       "    <tr>\n",
       "      <th>176</th>\n",
       "      <td>0</td>\n",
       "      <td>1</td>\n",
       "      <td>9</td>\n",
       "    </tr>\n",
       "    <tr>\n",
       "      <th>1211</th>\n",
       "      <td>0</td>\n",
       "      <td>1</td>\n",
       "      <td>10</td>\n",
       "    </tr>\n",
       "    <tr>\n",
       "      <th>165</th>\n",
       "      <td>0</td>\n",
       "      <td>0</td>\n",
       "      <td>7</td>\n",
       "    </tr>\n",
       "    <tr>\n",
       "      <th>799</th>\n",
       "      <td>0</td>\n",
       "      <td>0</td>\n",
       "      <td>5</td>\n",
       "    </tr>\n",
       "    <tr>\n",
       "      <th>...</th>\n",
       "      <td>...</td>\n",
       "      <td>...</td>\n",
       "      <td>...</td>\n",
       "    </tr>\n",
       "    <tr>\n",
       "      <th>148</th>\n",
       "      <td>0</td>\n",
       "      <td>1</td>\n",
       "      <td>9</td>\n",
       "    </tr>\n",
       "    <tr>\n",
       "      <th>1448</th>\n",
       "      <td>0</td>\n",
       "      <td>0</td>\n",
       "      <td>7</td>\n",
       "    </tr>\n",
       "    <tr>\n",
       "      <th>1128</th>\n",
       "      <td>0</td>\n",
       "      <td>1</td>\n",
       "      <td>9</td>\n",
       "    </tr>\n",
       "    <tr>\n",
       "      <th>310</th>\n",
       "      <td>0</td>\n",
       "      <td>0</td>\n",
       "      <td>7</td>\n",
       "    </tr>\n",
       "    <tr>\n",
       "      <th>523</th>\n",
       "      <td>0</td>\n",
       "      <td>0</td>\n",
       "      <td>7</td>\n",
       "    </tr>\n",
       "  </tbody>\n",
       "</table>\n",
       "<p>1167 rows × 3 columns</p>\n",
       "</div>"
      ],
      "text/plain": [
       "      Date  SurveyResults  Survey\n",
       "1379     0              1      10\n",
       "176      0              1       9\n",
       "1211     0              1      10\n",
       "165      0              0       7\n",
       "799      0              0       5\n",
       "...    ...            ...     ...\n",
       "148      0              1       9\n",
       "1448     0              0       7\n",
       "1128     0              1       9\n",
       "310      0              0       7\n",
       "523      0              0       7\n",
       "\n",
       "[1167 rows x 3 columns]"
      ]
     },
     "execution_count": 76,
     "metadata": {},
     "output_type": "execute_result"
    }
   ],
   "source": [
    "train_data"
   ]
  },
  {
   "cell_type": "code",
   "execution_count": 77,
   "id": "046a7758",
   "metadata": {},
   "outputs": [
    {
     "data": {
      "text/plain": [
       "array([[<Axes: title={'center': 'Date'}>,\n",
       "        <Axes: title={'center': 'SurveyResults'}>],\n",
       "       [<Axes: title={'center': 'Survey'}>, <Axes: >]], dtype=object)"
      ]
     },
     "execution_count": 77,
     "metadata": {},
     "output_type": "execute_result"
    },
    {
     "data": {
      "image/png": "[encoded data removed]",
      "text/plain": [
       "<Figure size 2000x1000 with 4 Axes>"
      ]
     },
     "metadata": {},
     "output_type": "display_data"
    }
   ],
   "source": [
    "train_data.hist(figsize=[20,10])"
   ]
  },
  {
   "cell_type": "code",
   "execution_count": 78,
   "id": "86ef6ba8",
   "metadata": {},
   "outputs": [
    {
     "data": {
      "text/plain": [
       "<Axes: >"
      ]
     },
     "execution_count": 78,
     "metadata": {},
     "output_type": "execute_result"
    },
    {
     "data": {
      "image/png": "[encoded data removed]",
      "text/plain": [
       "<Figure size 1500x900 with 2 Axes>"
      ]
     },
     "metadata": {},
     "output_type": "display_data"
    }
   ],
   "source": [
    "import seaborn as sns\n",
    "plt.figure(figsize=(15,9))\n",
    "sns.heatmap(train_data.corr(),annot=True,cmap='YlGnBu')"
   ]
  },
  {
   "cell_type": "code",
   "execution_count": 86,
   "id": "b6c02aa2",
   "metadata": {},
   "outputs": [
    {
     "name": "stdout",
     "output_type": "stream",
     "text": [
      "{0: -0.7258347978910369, 1: 0.8539325842696629}\n"
     ]
    }
   ],
   "source": [
    "from collections import defaultdict\n",
    "\n",
    "\n",
    "# Initialize dictionaries for high and low NPS counts\n",
    "high_nps = defaultdict(lambda: 0)\n",
    "low_nps = defaultdict(lambda: 0)\n",
    "\n",
    "# Update dictionaries with counts for high (9-10) and low (0-6) scores\n",
    "high_nps.update(dict(data[data['Survey'] >= 9].groupby('SurveyResults').count().reset_index()[['SurveyResults', 'Survey']].values))\n",
    "low_nps.update(dict(data[data['Survey'] <= 6].groupby('SurveyResults').count().reset_index()[['SurveyResults', 'Survey']].values))\n",
    "\n",
    "# Calculate total NPS counts for each council\n",
    "total_nps = dict(data.groupby('SurveyResults').count().reset_index()[['SurveyResults', 'Survey']].values)\n",
    "\n",
    "# Compute NPS score for each council\n",
    "nps_score = {SurveyResults: (high_nps[SurveyResults] - low_nps[SurveyResults]) / float(total_nps[SurveyResults]) for SurveyResults in total_nps}\n",
    "\n",
    "print(nps_score)\n"
   ]
  }
 ],
 "metadata": {
  "kernelspec": {
   "display_name": "Python 3 (ipykernel)",
   "language": "python",
   "name": "python3"
  },
  "language_info": {
   "codemirror_mode": {
    "name": "ipython",
    "version": 3
   },
   "file_extension": ".py",
   "mimetype": "text/x-python",
   "name": "python",
   "nbconvert_exporter": "python",
   "pygments_lexer": "ipython3",
   "version": "3.12.1"
  }
 },
 "nbformat": 4,
 "nbformat_minor": 5
}
